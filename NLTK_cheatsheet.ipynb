{
  "cells": [
    {
      "cell_type": "code",
      "execution_count": null,
      "metadata": {
        "id": "7TusqKxxybno"
      },
      "outputs": [],
      "source": [
        "import nltk"
      ]
    },
    {
      "cell_type": "code",
      "execution_count": null,
      "metadata": {
        "id": "7FOa-uz9TFNE"
      },
      "outputs": [],
      "source": [
        "nltk.download() # install all models"
      ]
    },
    {
      "cell_type": "markdown",
      "metadata": {
        "id": "YK98f6gfT8KF"
      },
      "source": [
        "# Stopwords"
      ]
    },
    {
      "cell_type": "code",
      "execution_count": null,
      "metadata": {
        "colab": {
          "base_uri": "https://localhost:8080/"
        },
        "id": "vVldsikeUS6Y",
        "outputId": "ff92fe30-622c-4928-e5e4-5945764163a5"
      },
      "outputs": [
        {
          "name": "stdout",
          "output_type": "stream",
          "text": [
            "[nltk_data] Downloading package stopwords to /root/nltk_data...\n",
            "[nltk_data]   Unzipping corpora/stopwords.zip.\n"
          ]
        },
        {
          "data": {
            "text/plain": [
              "True"
            ]
          },
          "execution_count": 58,
          "metadata": {},
          "output_type": "execute_result"
        }
      ],
      "source": [
        "nltk.download('stopwords')"
      ]
    },
    {
      "cell_type": "code",
      "execution_count": null,
      "metadata": {
        "id": "fjlJLqktT7_5"
      },
      "outputs": [],
      "source": [
        "from nltk.corpus import stopwords"
      ]
    },
    {
      "cell_type": "code",
      "execution_count": null,
      "metadata": {
        "id": "x2BCjP-DT79l"
      },
      "outputs": [],
      "source": [
        "english_stopwords = stopwords.words('english')"
      ]
    },
    {
      "cell_type": "code",
      "execution_count": null,
      "metadata": {
        "colab": {
          "base_uri": "https://localhost:8080/"
        },
        "id": "9zWV1lyCT77H",
        "outputId": "4c02b911-ac2a-417b-8b18-59047b4a3e7e"
      },
      "outputs": [
        {
          "data": {
            "text/plain": [
              "['Where', 'you?']"
            ]
          },
          "execution_count": 61,
          "metadata": {},
          "output_type": "execute_result"
        }
      ],
      "source": [
        "text = \"Where are you?\"\n",
        "tokens = [t for t in text.split() if t not in english_stopwords]\n",
        "tokens"
      ]
    },
    {
      "cell_type": "markdown",
      "metadata": {
        "id": "0rwDt5PSP0Ky"
      },
      "source": [
        "# Tokenization"
      ]
    },
    {
      "cell_type": "markdown",
      "metadata": {
        "id": "jIIWa8mIPf-j"
      },
      "source": [
        "Punkt Sentence Tokenizer. This tokenizer divides a text into a list of sentences, by using an unsupervised algorithm to build a model for abbreviation words, collocations, and words that start sentences. It must be trained on a large collection of plaintext in the target language before it can be used."
      ]
    },
    {
      "cell_type": "code",
      "execution_count": null,
      "metadata": {
        "colab": {
          "base_uri": "https://localhost:8080/"
        },
        "id": "u3SP6XxcPJ9t",
        "outputId": "4ae10344-7be7-4c4a-91d1-e5537f689e77"
      },
      "outputs": [
        {
          "name": "stdout",
          "output_type": "stream",
          "text": [
            "[nltk_data] Downloading package punkt to /root/nltk_data...\n",
            "[nltk_data]   Unzipping tokenizers/punkt.zip.\n"
          ]
        },
        {
          "data": {
            "text/plain": [
              "True"
            ]
          },
          "execution_count": 18,
          "metadata": {},
          "output_type": "execute_result"
        }
      ],
      "source": [
        "nltk.download('punkt')"
      ]
    },
    {
      "cell_type": "code",
      "execution_count": null,
      "metadata": {
        "colab": {
          "base_uri": "https://localhost:8080/"
        },
        "id": "hcpHgVSTOYqV",
        "outputId": "d3fe00ff-ac44-4935-b752-68f6ac7ce0d5"
      },
      "outputs": [
        {
          "data": {
            "text/plain": [
              "['How', 'are', 'you', '?', 'I', \"'m\", 'fine', ',', 'thanks', '.']"
            ]
          },
          "execution_count": 19,
          "metadata": {},
          "output_type": "execute_result"
        }
      ],
      "source": [
        "nltk.word_tokenize(\"How are you? I'm fine, thanks.\")"
      ]
    },
    {
      "cell_type": "code",
      "execution_count": null,
      "metadata": {
        "colab": {
          "base_uri": "https://localhost:8080/"
        },
        "id": "pIbEOfZsPAPu",
        "outputId": "1e5dc095-f941-4f3f-ef97-4246fcf1065a"
      },
      "outputs": [
        {
          "data": {
            "text/plain": [
              "['How are you?', \"I'm fine, thanks.\"]"
            ]
          },
          "execution_count": 20,
          "metadata": {},
          "output_type": "execute_result"
        }
      ],
      "source": [
        "nltk.sent_tokenize(\"How are you? I'm fine, thanks.\")"
      ]
    },
    {
      "cell_type": "markdown",
      "metadata": {
        "id": "949fuABFP33N"
      },
      "source": [
        "# Stemming and Lemmatization"
      ]
    },
    {
      "cell_type": "code",
      "execution_count": null,
      "metadata": {
        "id": "c-ZVMJKGQqsi"
      },
      "outputs": [],
      "source": [
        "porter_stemmer = nltk.PorterStemmer()"
      ]
    },
    {
      "cell_type": "code",
      "execution_count": null,
      "metadata": {
        "colab": {
          "base_uri": "https://localhost:8080/",
          "height": 35
        },
        "id": "UNZlN1CFQqpO",
        "outputId": "0bf3ddf1-1f64-4dc6-940e-3b9674415e48"
      },
      "outputs": [
        {
          "data": {
            "application/vnd.google.colaboratory.intrinsic+json": {
              "type": "string"
            },
            "text/plain": [
              "'dog'"
            ]
          },
          "execution_count": 46,
          "metadata": {},
          "output_type": "execute_result"
        }
      ],
      "source": [
        "porter_stemmer.stem(\"dogs\")"
      ]
    },
    {
      "cell_type": "code",
      "execution_count": null,
      "metadata": {
        "colab": {
          "base_uri": "https://localhost:8080/"
        },
        "id": "NqxoNI5iRMfT",
        "outputId": "589ae8d6-7841-47dd-ddc2-89bd962b2855"
      },
      "outputs": [
        {
          "name": "stdout",
          "output_type": "stream",
          "text": [
            "[nltk_data] Downloading package wordnet to /root/nltk_data...\n",
            "[nltk_data]   Unzipping corpora/wordnet.zip.\n"
          ]
        },
        {
          "data": {
            "text/plain": [
              "True"
            ]
          },
          "execution_count": 33,
          "metadata": {},
          "output_type": "execute_result"
        }
      ],
      "source": [
        "nltk.download('wordnet')"
      ]
    },
    {
      "cell_type": "code",
      "execution_count": null,
      "metadata": {
        "id": "NVrzwVpIQqdE"
      },
      "outputs": [],
      "source": [
        "wordnet_lemmatizer = nltk.WordNetLemmatizer()"
      ]
    },
    {
      "cell_type": "code",
      "execution_count": null,
      "metadata": {
        "colab": {
          "base_uri": "https://localhost:8080/",
          "height": 35
        },
        "id": "uQ9mqOe2RH9I",
        "outputId": "09daf065-5a18-468c-f75a-c6a8ca24e43d"
      },
      "outputs": [
        {
          "data": {
            "application/vnd.google.colaboratory.intrinsic+json": {
              "type": "string"
            },
            "text/plain": [
              "'dog'"
            ]
          },
          "execution_count": 45,
          "metadata": {},
          "output_type": "execute_result"
        }
      ],
      "source": [
        "wordnet_lemmatizer.lemmatize(\"dogs\")"
      ]
    },
    {
      "cell_type": "markdown",
      "metadata": {
        "id": "ks80H7ZWRtXF"
      },
      "source": [
        "# POS Tagging"
      ]
    },
    {
      "cell_type": "code",
      "execution_count": null,
      "metadata": {
        "colab": {
          "base_uri": "https://localhost:8080/"
        },
        "id": "uwSYndkPRsk5",
        "outputId": "f58fa242-e4c8-4528-da68-1d4a6176c6c0"
      },
      "outputs": [
        {
          "name": "stdout",
          "output_type": "stream",
          "text": [
            "[nltk_data] Downloading package averaged_perceptron_tagger to\n",
            "[nltk_data]     /root/nltk_data...\n",
            "[nltk_data]   Unzipping taggers/averaged_perceptron_tagger.zip.\n"
          ]
        },
        {
          "data": {
            "text/plain": [
              "True"
            ]
          },
          "execution_count": 48,
          "metadata": {},
          "output_type": "execute_result"
        }
      ],
      "source": [
        "nltk.download('averaged_perceptron_tagger')"
      ]
    },
    {
      "cell_type": "code",
      "execution_count": null,
      "metadata": {
        "colab": {
          "base_uri": "https://localhost:8080/"
        },
        "id": "dR5RJxA8R58a",
        "outputId": "f5c0cd35-dbd2-4e42-b94f-0600ff51d385"
      },
      "outputs": [
        {
          "data": {
            "text/plain": [
              "['How', 'are', 'you', '?', 'I', \"'m\", 'fine', ',', 'thanks', '.']"
            ]
          },
          "execution_count": 50,
          "metadata": {},
          "output_type": "execute_result"
        }
      ],
      "source": [
        "words = nltk.word_tokenize(\"How are you? I'm fine, thanks.\")\n",
        "words"
      ]
    },
    {
      "cell_type": "code",
      "execution_count": null,
      "metadata": {
        "colab": {
          "base_uri": "https://localhost:8080/"
        },
        "id": "PRH-AusnRPY5",
        "outputId": "1b9b85ee-afc7-46e8-b1b7-f205abf16a49"
      },
      "outputs": [
        {
          "data": {
            "text/plain": [
              "[('How', 'WRB'),\n",
              " ('are', 'VBP'),\n",
              " ('you', 'PRP'),\n",
              " ('?', '.'),\n",
              " ('I', 'PRP'),\n",
              " (\"'m\", 'VBP'),\n",
              " ('fine', 'JJ'),\n",
              " (',', ','),\n",
              " ('thanks', 'NNS'),\n",
              " ('.', '.')]"
            ]
          },
          "execution_count": 51,
          "metadata": {},
          "output_type": "execute_result"
        }
      ],
      "source": [
        "nltk.pos_tag(words)"
      ]
    }
  ],
  "metadata": {
    "colab": {
      "provenance": []
    },
    "kernelspec": {
      "display_name": "Python 3",
      "name": "python3"
    },
    "language_info": {
      "name": "python"
    }
  },
  "nbformat": 4,
  "nbformat_minor": 0
}