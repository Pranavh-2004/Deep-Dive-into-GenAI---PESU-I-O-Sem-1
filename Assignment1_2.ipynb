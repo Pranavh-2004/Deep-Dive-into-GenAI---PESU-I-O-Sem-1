{
  "nbformat": 4,
  "nbformat_minor": 0,
  "metadata": {
    "colab": {
      "provenance": []
    },
    "kernelspec": {
      "name": "python3",
      "display_name": "Python 3"
    },
    "language_info": {
      "name": "python"
    }
  },
  "cells": [
    {
      "cell_type": "code",
      "execution_count": null,
      "metadata": {
        "id": "zcEwTvs3nzHu"
      },
      "outputs": [],
      "source": [
        "import nltk\n"
      ]
    },
    {
      "cell_type": "code",
      "source": [
        "nltk.download('stopwords')"
      ],
      "metadata": {
        "colab": {
          "base_uri": "https://localhost:8080/"
        },
        "id": "wnayVlWCoLlp",
        "outputId": "12079c98-1754-41cb-8502-a2bc9d9b5c60"
      },
      "execution_count": null,
      "outputs": [
        {
          "output_type": "stream",
          "name": "stderr",
          "text": [
            "[nltk_data] Downloading package stopwords to /root/nltk_data...\n",
            "[nltk_data]   Unzipping corpora/stopwords.zip.\n"
          ]
        },
        {
          "output_type": "execute_result",
          "data": {
            "text/plain": [
              "True"
            ]
          },
          "metadata": {},
          "execution_count": 3
        }
      ]
    },
    {
      "cell_type": "markdown",
      "source": [
        "Stopwords"
      ],
      "metadata": {
        "id": "8oTWeXixobt4"
      }
    },
    {
      "cell_type": "code",
      "source": [
        "#stopwords module\n",
        "from nltk.corpus import stopwords\n",
        "english_stopwords = stopwords.words('english')"
      ],
      "metadata": {
        "id": "nJEiGTgWoQEQ"
      },
      "execution_count": null,
      "outputs": []
    },
    {
      "cell_type": "markdown",
      "source": [
        "Tokenisation of text from the book"
      ],
      "metadata": {
        "id": "i5L8yplUoezP"
      }
    },
    {
      "cell_type": "code",
      "source": [
        "nltk.download('punkt')"
      ],
      "metadata": {
        "colab": {
          "base_uri": "https://localhost:8080/"
        },
        "id": "czWZ168roUTC",
        "outputId": "fb836dd4-c56e-4dd5-bc31-ae30ebf247c3"
      },
      "execution_count": null,
      "outputs": [
        {
          "output_type": "stream",
          "name": "stderr",
          "text": [
            "[nltk_data] Downloading package punkt to /root/nltk_data...\n",
            "[nltk_data]   Unzipping tokenizers/punkt.zip.\n"
          ]
        },
        {
          "output_type": "execute_result",
          "data": {
            "text/plain": [
              "True"
            ]
          },
          "metadata": {},
          "execution_count": 5
        }
      ]
    },
    {
      "cell_type": "code",
      "source": [
        "#tokenizing each word in the paragraph and printing\n",
        "nltk.word_tokenize('''Mr. Dursley was the director of a firm called Grunnings, which\n",
        "made drills. He was a big, beefy man with hardly any neck, although he did have a very large mustache. Mrs. Dursley was thin\n",
        "and blonde and had nearly twice the usual amount of neck, which\n",
        "came in very useful as she spent so much of her time craning over\n",
        "garden fences, spying on the neighbors. The Dursleys had a small\n",
        "son called Dudley and in their opinion there was no finer boy anywhere.''')"
      ],
      "metadata": {
        "colab": {
          "base_uri": "https://localhost:8080/"
        },
        "id": "wDXbuhU0oxnu",
        "outputId": "9bf2a477-199d-480f-cae9-a2aa38a6852d"
      },
      "execution_count": null,
      "outputs": [
        {
          "output_type": "execute_result",
          "data": {
            "text/plain": [
              "['Mr.',\n",
              " 'Dursley',\n",
              " 'was',\n",
              " 'the',\n",
              " 'director',\n",
              " 'of',\n",
              " 'a',\n",
              " 'firm',\n",
              " 'called',\n",
              " 'Grunnings',\n",
              " ',',\n",
              " 'which',\n",
              " 'made',\n",
              " 'drills',\n",
              " '.',\n",
              " 'He',\n",
              " 'was',\n",
              " 'a',\n",
              " 'big',\n",
              " ',',\n",
              " 'beefy',\n",
              " 'man',\n",
              " 'with',\n",
              " 'hardly',\n",
              " 'any',\n",
              " 'neck',\n",
              " ',',\n",
              " 'although',\n",
              " 'he',\n",
              " 'did',\n",
              " 'have',\n",
              " 'a',\n",
              " 'very',\n",
              " 'large',\n",
              " 'mustache',\n",
              " '.',\n",
              " 'Mrs.',\n",
              " 'Dursley',\n",
              " 'was',\n",
              " 'thin',\n",
              " 'and',\n",
              " 'blonde',\n",
              " 'and',\n",
              " 'had',\n",
              " 'nearly',\n",
              " 'twice',\n",
              " 'the',\n",
              " 'usual',\n",
              " 'amount',\n",
              " 'of',\n",
              " 'neck',\n",
              " ',',\n",
              " 'which',\n",
              " 'came',\n",
              " 'in',\n",
              " 'very',\n",
              " 'useful',\n",
              " 'as',\n",
              " 'she',\n",
              " 'spent',\n",
              " 'so',\n",
              " 'much',\n",
              " 'of',\n",
              " 'her',\n",
              " 'time',\n",
              " 'craning',\n",
              " 'over',\n",
              " 'garden',\n",
              " 'fences',\n",
              " ',',\n",
              " 'spying',\n",
              " 'on',\n",
              " 'the',\n",
              " 'neighbors',\n",
              " '.',\n",
              " 'The',\n",
              " 'Dursleys',\n",
              " 'had',\n",
              " 'a',\n",
              " 'small',\n",
              " 'son',\n",
              " 'called',\n",
              " 'Dudley',\n",
              " 'and',\n",
              " 'in',\n",
              " 'their',\n",
              " 'opinion',\n",
              " 'there',\n",
              " 'was',\n",
              " 'no',\n",
              " 'finer',\n",
              " 'boy',\n",
              " 'anywhere',\n",
              " '.']"
            ]
          },
          "metadata": {},
          "execution_count": 6
        }
      ]
    },
    {
      "cell_type": "code",
      "source": [
        "#tokenizing each sentence in the paragraph and printing\n",
        "nltk.sent_tokenize('''Mr. Dursley was the director of a firm called Grunnings, which\n",
        "made drills. He was a big, beefy man with hardly any neck, although he did have a very large mustache. Mrs. Dursley was thin\n",
        "and blonde and had nearly twice the usual amount of neck, which\n",
        "came in very useful as she spent so much of her time craning over\n",
        "garden fences, spying on the neighbors. The Dursleys had a small\n",
        "son called Dudley and in their opinion there was no finer boy anywhere.''')"
      ],
      "metadata": {
        "colab": {
          "base_uri": "https://localhost:8080/"
        },
        "id": "Wn3GLl5-qAjv",
        "outputId": "15cc1fe9-9e43-43cc-8ce4-ab550c04619b"
      },
      "execution_count": null,
      "outputs": [
        {
          "output_type": "execute_result",
          "data": {
            "text/plain": [
              "['Mr. Dursley was the director of a firm called Grunnings, which\\nmade drills.',\n",
              " 'He was a big, beefy man with hardly any neck, although he did have a very large mustache.',\n",
              " 'Mrs. Dursley was thin\\nand blonde and had nearly twice the usual amount of neck, which\\ncame in very useful as she spent so much of her time craning over\\ngarden fences, spying on the neighbors.',\n",
              " 'The Dursleys had a small\\nson called Dudley and in their opinion there was no finer boy anywhere.']"
            ]
          },
          "metadata": {},
          "execution_count": 13
        }
      ]
    },
    {
      "cell_type": "markdown",
      "source": [
        "Stemming VS Lemmatization"
      ],
      "metadata": {
        "id": "RGCRd_T9pLCu"
      }
    },
    {
      "cell_type": "code",
      "source": [
        "#stemming given word using the nltk function - portstemmer\n",
        "porter_stemmer = nltk.PorterStemmer()\n",
        "porter_stemmer.stem(\"was\")"
      ],
      "metadata": {
        "colab": {
          "base_uri": "https://localhost:8080/",
          "height": 36
        },
        "id": "L-dVVBaVpN8V",
        "outputId": "0b6038c4-c99f-45db-a189-6c22de0fde6c"
      },
      "execution_count": null,
      "outputs": [
        {
          "output_type": "execute_result",
          "data": {
            "text/plain": [
              "'wa'"
            ],
            "application/vnd.google.colaboratory.intrinsic+json": {
              "type": "string"
            }
          },
          "metadata": {},
          "execution_count": 10
        }
      ]
    },
    {
      "cell_type": "code",
      "source": [
        "#installing wordnet to lemmatize given word\n",
        "nltk.download('wordnet')\n",
        "wordnet_lemmatizer = nltk.WordNetLemmatizer()\n",
        "wordnet_lemmatizer.lemmatize(\"dogs\")"
      ],
      "metadata": {
        "colab": {
          "base_uri": "https://localhost:8080/",
          "height": 70
        },
        "id": "jg7lpqb-pUGH",
        "outputId": "ae0e1a16-ffa1-49d5-e180-8e2af7fe9169"
      },
      "execution_count": null,
      "outputs": [
        {
          "output_type": "stream",
          "name": "stderr",
          "text": [
            "[nltk_data] Downloading package wordnet to /root/nltk_data...\n",
            "[nltk_data]   Package wordnet is already up-to-date!\n"
          ]
        },
        {
          "output_type": "execute_result",
          "data": {
            "text/plain": [
              "'dog'"
            ],
            "application/vnd.google.colaboratory.intrinsic+json": {
              "type": "string"
            }
          },
          "metadata": {},
          "execution_count": 12
        }
      ]
    },
    {
      "cell_type": "markdown",
      "source": [
        "Spacy"
      ],
      "metadata": {
        "id": "QH8n1O74qKLA"
      }
    },
    {
      "cell_type": "markdown",
      "source": [
        "POS Tagging"
      ],
      "metadata": {
        "id": "Vl406a35qNRr"
      }
    },
    {
      "cell_type": "code",
      "source": [
        "nltk.download('averaged_perceptron_tagger')"
      ],
      "metadata": {
        "colab": {
          "base_uri": "https://localhost:8080/"
        },
        "id": "95T9tHuoqRHX",
        "outputId": "1c55933c-630e-4fd9-f0d8-7c4624b563ae"
      },
      "execution_count": null,
      "outputs": [
        {
          "output_type": "stream",
          "name": "stderr",
          "text": [
            "[nltk_data] Downloading package averaged_perceptron_tagger to\n",
            "[nltk_data]     /root/nltk_data...\n",
            "[nltk_data]   Unzipping taggers/averaged_perceptron_tagger.zip.\n"
          ]
        },
        {
          "output_type": "execute_result",
          "data": {
            "text/plain": [
              "True"
            ]
          },
          "metadata": {},
          "execution_count": 14
        }
      ]
    },
    {
      "cell_type": "code",
      "source": [
        "#tokenizing each word in the paragraph and printing\n",
        "words = nltk.word_tokenize('''Mr. Dursley was the director of a firm called Grunnings, which\n",
        "made drills. He was a big, beefy man with hardly any neck, although he did have a very large mustache. Mrs. Dursley was thin\n",
        "and blonde and had nearly twice the usual amount of neck, which\n",
        "came in very useful as she spent so much of her time craning over\n",
        "garden fences, spying on the neighbors. The Dursleys had a small\n",
        "son called Dudley and in their opinion there was no finer boy anywhere.''')\n",
        "words\n"
      ],
      "metadata": {
        "colab": {
          "base_uri": "https://localhost:8080/"
        },
        "id": "brv-SRbNqajf",
        "outputId": "3958368c-8f72-4b82-ebd8-5cf85e7a0cda"
      },
      "execution_count": null,
      "outputs": [
        {
          "output_type": "execute_result",
          "data": {
            "text/plain": [
              "['Mr.',\n",
              " 'Dursley',\n",
              " 'was',\n",
              " 'the',\n",
              " 'director',\n",
              " 'of',\n",
              " 'a',\n",
              " 'firm',\n",
              " 'called',\n",
              " 'Grunnings',\n",
              " ',',\n",
              " 'which',\n",
              " 'made',\n",
              " 'drills',\n",
              " '.',\n",
              " 'He',\n",
              " 'was',\n",
              " 'a',\n",
              " 'big',\n",
              " ',',\n",
              " 'beefy',\n",
              " 'man',\n",
              " 'with',\n",
              " 'hardly',\n",
              " 'any',\n",
              " 'neck',\n",
              " ',',\n",
              " 'although',\n",
              " 'he',\n",
              " 'did',\n",
              " 'have',\n",
              " 'a',\n",
              " 'very',\n",
              " 'large',\n",
              " 'mustache',\n",
              " '.',\n",
              " 'Mrs.',\n",
              " 'Dursley',\n",
              " 'was',\n",
              " 'thin',\n",
              " 'and',\n",
              " 'blonde',\n",
              " 'and',\n",
              " 'had',\n",
              " 'nearly',\n",
              " 'twice',\n",
              " 'the',\n",
              " 'usual',\n",
              " 'amount',\n",
              " 'of',\n",
              " 'neck',\n",
              " ',',\n",
              " 'which',\n",
              " 'came',\n",
              " 'in',\n",
              " 'very',\n",
              " 'useful',\n",
              " 'as',\n",
              " 'she',\n",
              " 'spent',\n",
              " 'so',\n",
              " 'much',\n",
              " 'of',\n",
              " 'her',\n",
              " 'time',\n",
              " 'craning',\n",
              " 'over',\n",
              " 'garden',\n",
              " 'fences',\n",
              " ',',\n",
              " 'spying',\n",
              " 'on',\n",
              " 'the',\n",
              " 'neighbors',\n",
              " '.',\n",
              " 'The',\n",
              " 'Dursleys',\n",
              " 'had',\n",
              " 'a',\n",
              " 'small',\n",
              " 'son',\n",
              " 'called',\n",
              " 'Dudley',\n",
              " 'and',\n",
              " 'in',\n",
              " 'their',\n",
              " 'opinion',\n",
              " 'there',\n",
              " 'was',\n",
              " 'no',\n",
              " 'finer',\n",
              " 'boy',\n",
              " 'anywhere',\n",
              " '.']"
            ]
          },
          "metadata": {},
          "execution_count": 15
        }
      ]
    },
    {
      "cell_type": "code",
      "source": [
        "#pos tagging of each tokenised word\n",
        "nltk.pos_tag(words)"
      ],
      "metadata": {
        "colab": {
          "base_uri": "https://localhost:8080/"
        },
        "id": "ulBYB9wFqg4B",
        "outputId": "14b3842b-bdd0-40a1-e791-5a4c627f4ca8"
      },
      "execution_count": null,
      "outputs": [
        {
          "output_type": "execute_result",
          "data": {
            "text/plain": [
              "[('Mr.', 'NNP'),\n",
              " ('Dursley', 'NNP'),\n",
              " ('was', 'VBD'),\n",
              " ('the', 'DT'),\n",
              " ('director', 'NN'),\n",
              " ('of', 'IN'),\n",
              " ('a', 'DT'),\n",
              " ('firm', 'NN'),\n",
              " ('called', 'VBN'),\n",
              " ('Grunnings', 'NNP'),\n",
              " (',', ','),\n",
              " ('which', 'WDT'),\n",
              " ('made', 'VBD'),\n",
              " ('drills', 'NNS'),\n",
              " ('.', '.'),\n",
              " ('He', 'PRP'),\n",
              " ('was', 'VBD'),\n",
              " ('a', 'DT'),\n",
              " ('big', 'JJ'),\n",
              " (',', ','),\n",
              " ('beefy', 'JJ'),\n",
              " ('man', 'NN'),\n",
              " ('with', 'IN'),\n",
              " ('hardly', 'RB'),\n",
              " ('any', 'DT'),\n",
              " ('neck', 'NN'),\n",
              " (',', ','),\n",
              " ('although', 'IN'),\n",
              " ('he', 'PRP'),\n",
              " ('did', 'VBD'),\n",
              " ('have', 'VB'),\n",
              " ('a', 'DT'),\n",
              " ('very', 'RB'),\n",
              " ('large', 'JJ'),\n",
              " ('mustache', 'NN'),\n",
              " ('.', '.'),\n",
              " ('Mrs.', 'NNP'),\n",
              " ('Dursley', 'NNP'),\n",
              " ('was', 'VBD'),\n",
              " ('thin', 'JJ'),\n",
              " ('and', 'CC'),\n",
              " ('blonde', 'NN'),\n",
              " ('and', 'CC'),\n",
              " ('had', 'VBD'),\n",
              " ('nearly', 'RB'),\n",
              " ('twice', 'RB'),\n",
              " ('the', 'DT'),\n",
              " ('usual', 'JJ'),\n",
              " ('amount', 'NN'),\n",
              " ('of', 'IN'),\n",
              " ('neck', 'NN'),\n",
              " (',', ','),\n",
              " ('which', 'WDT'),\n",
              " ('came', 'VBD'),\n",
              " ('in', 'IN'),\n",
              " ('very', 'RB'),\n",
              " ('useful', 'JJ'),\n",
              " ('as', 'IN'),\n",
              " ('she', 'PRP'),\n",
              " ('spent', 'VBD'),\n",
              " ('so', 'RB'),\n",
              " ('much', 'JJ'),\n",
              " ('of', 'IN'),\n",
              " ('her', 'PRP$'),\n",
              " ('time', 'NN'),\n",
              " ('craning', 'NN'),\n",
              " ('over', 'IN'),\n",
              " ('garden', 'NN'),\n",
              " ('fences', 'NNS'),\n",
              " (',', ','),\n",
              " ('spying', 'VBG'),\n",
              " ('on', 'IN'),\n",
              " ('the', 'DT'),\n",
              " ('neighbors', 'NNS'),\n",
              " ('.', '.'),\n",
              " ('The', 'DT'),\n",
              " ('Dursleys', 'NNP'),\n",
              " ('had', 'VBD'),\n",
              " ('a', 'DT'),\n",
              " ('small', 'JJ'),\n",
              " ('son', 'NN'),\n",
              " ('called', 'VBN'),\n",
              " ('Dudley', 'NNP'),\n",
              " ('and', 'CC'),\n",
              " ('in', 'IN'),\n",
              " ('their', 'PRP$'),\n",
              " ('opinion', 'NN'),\n",
              " ('there', 'EX'),\n",
              " ('was', 'VBD'),\n",
              " ('no', 'DT'),\n",
              " ('finer', 'NN'),\n",
              " ('boy', 'RB'),\n",
              " ('anywhere', 'RB'),\n",
              " ('.', '.')]"
            ]
          },
          "metadata": {},
          "execution_count": 16
        }
      ]
    },
    {
      "cell_type": "markdown",
      "source": [
        "Named Entity Recognition (NER)"
      ],
      "metadata": {
        "id": "zq95YhRBqnAY"
      }
    },
    {
      "cell_type": "code",
      "source": [
        "import spacy\n"
      ],
      "metadata": {
        "id": "cOF8H9t8qtL_"
      },
      "execution_count": null,
      "outputs": []
    },
    {
      "cell_type": "code",
      "source": [
        "# Load the English NER model\n",
        "nlp = spacy.load(\"en_core_web_sm\")\n",
        "\n",
        "# Text to be analyzed\n",
        "text = '''Mr. Dursley was the director of a firm called Grunnings, which\n",
        "made drills. He was a big, beefy man with hardly any neck, although he did have a very large mustache. Mrs. Dursley was thin\n",
        "and blonde and had nearly twice the usual amount of neck, which\n",
        "came in very useful as she spent so much of her time craning over\n",
        "garden fences, spying on the neighbors. The Dursleys had a small\n",
        "son called Dudley and in their opinion there was no finer boy anywhere.'''\n",
        "\n",
        "# Process the text\n",
        "doc = nlp(text)\n",
        "\n",
        "# Iterate over entities found in the text\n",
        "for ent in doc.ents:\n",
        "    print(f\"Entity: {ent.text}, Label: {ent.label_}\")"
      ],
      "metadata": {
        "colab": {
          "base_uri": "https://localhost:8080/"
        },
        "id": "HanYkZEPrOP2",
        "outputId": "278b4fcc-cbb4-42d4-f831-eae3a83d070c"
      },
      "execution_count": null,
      "outputs": [
        {
          "output_type": "stream",
          "name": "stdout",
          "text": [
            "Entity: Dursley, Label: PERSON\n",
            "Entity: Grunnings, Label: ORG\n",
            "Entity: Dursley, Label: PERSON\n",
            "Entity: Dursleys, Label: PERSON\n",
            "Entity: Dudley, Label: PERSON\n"
          ]
        }
      ]
    }
  ]
}